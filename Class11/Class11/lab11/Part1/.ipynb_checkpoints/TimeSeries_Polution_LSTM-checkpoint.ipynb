{
 "cells": [
  {
   "cell_type": "markdown",
   "metadata": {},
   "source": [
    "# ML Lab 11 - LSTM for Air Polution Forecasting\n",
    "\n",
    "\n",
    "\n",
    "**Objectives**: Apply Long Short-Term Memory (LSTM) Recurrent Neural Network (RNN) for \n",
    "Multivariate Time Series Forecasting. \n",
    "\n",
    "**The forecasting problem**: Air Quality dataset reports on the weather and the level of pollution each hour over 5 years at the US embassy in Beijing, China. Given the weather conditions and pollution for prior hours, forecast the pollution at the next hour.\n",
    "\n",
    "Data includes the date-time, the pollution called PM2.5 concentration, and the weather information including dew point, temperature, pressure, wind direction, wind speed and the cumulative number of hours of snow and rain. The complete list of data is as follows:\n",
    "\n",
    "**Total data**: 43800 samples (5 years x 365 days x 24 hours), 8 features.\n",
    "\n",
    "**year-month-day-hour**: date of data in this row\n",
    "\n",
    "**pm2.5**: PM2.5 concentration  (**pollution indicator => the predicted variable**) \n",
    "\n",
    "**DEWP**: Dew Point (DewP indicates the amount moisture in the air. The higher the dewP, the higher the moisture content of the air at a given temperature.\n",
    "\n",
    "**TEM**P: Temperature\n",
    "\n",
    "**PRES**: Pressure\n",
    "\n",
    "**cbwd**: Combined wind direction (categorical feature, 4 values, e.g. Sought-East (SE))\n",
    "\n",
    "**Iws**: Cumulated wind speed\n",
    "\n",
    "**Is**: Cumulated hours of snow\n",
    "\n",
    "**Ir**: Cumulated hours of rain"
   ]
  },
  {
   "cell_type": "code",
   "execution_count": 1,
   "metadata": {},
   "outputs": [],
   "source": [
    "import warnings\n",
    "warnings.filterwarnings('ignore',category=FutureWarning)\n",
    "warnings.filterwarnings('ignore',category=RuntimeWarning)\n",
    "\n",
    "import numpy as np\n",
    "from numpy import concatenate\n",
    "from matplotlib import pyplot\n",
    "from pandas import read_csv\n",
    "from pandas import DataFrame\n",
    "from pandas import concat\n",
    "from sklearn.preprocessing import MinMaxScaler\n",
    "from sklearn.preprocessing import LabelEncoder\n",
    "from sklearn.metrics import mean_squared_error\n",
    "from keras.models import Sequential\n",
    "from keras.layers import Dense\n",
    "from keras.layers import LSTM"
   ]
  },
  {
   "cell_type": "markdown",
   "metadata": {},
   "source": [
    "## Load Data\n",
    "Use function *read_csv* to load data from file pollution.csv and create the structure dataset. \n",
    "Then, extract only the values of the structure and ignore the column with the date. "
   ]
  },
  {
   "cell_type": "code",
   "execution_count": 2,
   "metadata": {},
   "outputs": [
    {
     "data": {
      "text/html": [
       "<div>\n",
       "<style scoped>\n",
       "    .dataframe tbody tr th:only-of-type {\n",
       "        vertical-align: middle;\n",
       "    }\n",
       "\n",
       "    .dataframe tbody tr th {\n",
       "        vertical-align: top;\n",
       "    }\n",
       "\n",
       "    .dataframe thead th {\n",
       "        text-align: right;\n",
       "    }\n",
       "</style>\n",
       "<table border=\"1\" class=\"dataframe\">\n",
       "  <thead>\n",
       "    <tr style=\"text-align: right;\">\n",
       "      <th></th>\n",
       "      <th>pollution</th>\n",
       "      <th>dew</th>\n",
       "      <th>temp</th>\n",
       "      <th>press</th>\n",
       "      <th>wnd_dir</th>\n",
       "      <th>wnd_spd</th>\n",
       "      <th>snow</th>\n",
       "      <th>rain</th>\n",
       "    </tr>\n",
       "    <tr>\n",
       "      <th>date</th>\n",
       "      <th></th>\n",
       "      <th></th>\n",
       "      <th></th>\n",
       "      <th></th>\n",
       "      <th></th>\n",
       "      <th></th>\n",
       "      <th></th>\n",
       "      <th></th>\n",
       "    </tr>\n",
       "  </thead>\n",
       "  <tbody>\n",
       "    <tr>\n",
       "      <th>2010-01-02 00:00:00</th>\n",
       "      <td>129.0</td>\n",
       "      <td>-16</td>\n",
       "      <td>-4.0</td>\n",
       "      <td>1020.0</td>\n",
       "      <td>SE</td>\n",
       "      <td>1.79</td>\n",
       "      <td>0</td>\n",
       "      <td>0</td>\n",
       "    </tr>\n",
       "    <tr>\n",
       "      <th>2010-01-02 01:00:00</th>\n",
       "      <td>148.0</td>\n",
       "      <td>-15</td>\n",
       "      <td>-4.0</td>\n",
       "      <td>1020.0</td>\n",
       "      <td>SE</td>\n",
       "      <td>2.68</td>\n",
       "      <td>0</td>\n",
       "      <td>0</td>\n",
       "    </tr>\n",
       "    <tr>\n",
       "      <th>2010-01-02 02:00:00</th>\n",
       "      <td>159.0</td>\n",
       "      <td>-11</td>\n",
       "      <td>-5.0</td>\n",
       "      <td>1021.0</td>\n",
       "      <td>SE</td>\n",
       "      <td>3.57</td>\n",
       "      <td>0</td>\n",
       "      <td>0</td>\n",
       "    </tr>\n",
       "    <tr>\n",
       "      <th>2010-01-02 03:00:00</th>\n",
       "      <td>181.0</td>\n",
       "      <td>-7</td>\n",
       "      <td>-5.0</td>\n",
       "      <td>1022.0</td>\n",
       "      <td>SE</td>\n",
       "      <td>5.36</td>\n",
       "      <td>1</td>\n",
       "      <td>0</td>\n",
       "    </tr>\n",
       "    <tr>\n",
       "      <th>2010-01-02 04:00:00</th>\n",
       "      <td>138.0</td>\n",
       "      <td>-7</td>\n",
       "      <td>-5.0</td>\n",
       "      <td>1022.0</td>\n",
       "      <td>SE</td>\n",
       "      <td>6.25</td>\n",
       "      <td>2</td>\n",
       "      <td>0</td>\n",
       "    </tr>\n",
       "  </tbody>\n",
       "</table>\n",
       "</div>"
      ],
      "text/plain": [
       "                     pollution  dew  temp   press wnd_dir  wnd_spd  snow  rain\n",
       "date                                                                          \n",
       "2010-01-02 00:00:00      129.0  -16  -4.0  1020.0      SE     1.79     0     0\n",
       "2010-01-02 01:00:00      148.0  -15  -4.0  1020.0      SE     2.68     0     0\n",
       "2010-01-02 02:00:00      159.0  -11  -5.0  1021.0      SE     3.57     0     0\n",
       "2010-01-02 03:00:00      181.0   -7  -5.0  1022.0      SE     5.36     1     0\n",
       "2010-01-02 04:00:00      138.0   -7  -5.0  1022.0      SE     6.25     2     0"
      ]
     },
     "execution_count": 2,
     "metadata": {},
     "output_type": "execute_result"
    }
   ],
   "source": [
    "dataset = read_csv(\"pollution.csv\", header=0, index_col=0, sep=',')\n",
    "values = dataset.head()\n",
    "\n",
    "values"
   ]
  },
  {
   "cell_type": "code",
   "execution_count": 3,
   "metadata": {},
   "outputs": [
    {
     "name": "stdout",
     "output_type": "stream",
     "text": [
      "[[129.0 -16 -4.0 ... 1.79 0 0]\n",
      " [148.0 -15 -4.0 ... 2.68 0 0]\n",
      " [159.0 -11 -5.0 ... 3.57 0 0]\n",
      " ...\n",
      " [10.0 -22 -3.0 ... 242.7 0 0]\n",
      " [8.0 -22 -4.0 ... 246.72 0 0]\n",
      " [12.0 -21 -3.0 ... 249.85 0 0]]\n"
     ]
    }
   ],
   "source": [
    "values = dataset.values\n",
    "print(values)"
   ]
  },
  {
   "cell_type": "code",
   "execution_count": 4,
   "metadata": {},
   "outputs": [
    {
     "data": {
      "text/plain": [
       "[<matplotlib.lines.Line2D at 0x7ffa9c505130>]"
      ]
     },
     "execution_count": 4,
     "metadata": {},
     "output_type": "execute_result"
    },
    {
     "data": {
      "image/png": "[encoded data removed]",
      "text/plain": [
       "<Figure size 432x288 with 8 Axes>"
      ]
     },
     "metadata": {
      "needs_background": "light"
     },
     "output_type": "display_data"
    }
   ],
   "source": [
    "columns = dataset.columns\n",
    "fig, axis = pyplot.subplots(4, 2)\n",
    "\n",
    "axis[0,0].set_title(columns[0])\n",
    "axis[0,0].plot(values[:,0])\n",
    "\n",
    "axis[0,1].set_title(columns[1])\n",
    "axis[0,1].plot(values[:,1])\n",
    "\n",
    "axis[1,0].set_title(columns[2])\n",
    "axis[1,0].plot(values[:,2])\n",
    "\n",
    "axis[1,1].set_title(columns[3])\n",
    "axis[1,1].plot(values[:,3])\n",
    "\n",
    "axis[2,0].set_title(columns[4])\n",
    "axis[2,0].plot(values[:,4])\n",
    "\n",
    "axis[2,1].set_title(columns[5])\n",
    "axis[2,1].plot(values[:,5])\n",
    "\n",
    "axis[3,0].set_title(columns[6])\n",
    "axis[3,0].plot(values[:,6])\n",
    "\n",
    "axis[3,1].set_title(columns[7])\n",
    "axis[3,1].plot(values[:,7])"
   ]
  },
  {
   "cell_type": "markdown",
   "metadata": {},
   "source": [
    "## Plot Data\n",
    "Plot the data and get a figure similar to Fig.1 \n",
    "<img src=\"images/f1.png\" style=\"width:350px;height:250px;\">\n",
    "<caption><center> **Fig. 1** : ** Pollution & Weather Time series dataset** </center></caption>"
   ]
  },
  {
   "cell_type": "markdown",
   "metadata": {},
   "source": [
    "## LSTM Data Preparation\n",
    "Prepare the dataset for the LSTM, that is, frame the dataset as a supervised learning problem to predict the pollution (pm2.5) at the current or future hours given the past pollution and weather conditions over a number of prior time steps (hours).\n",
    "\n",
    "\n",
    "**Original data frame (each row has data of only that hour)** :\n",
    "\n",
    "row 1=> var1(t), var2(t),...var8(t)\n",
    "\n",
    "row 2=> var1(t-1), var2(t-1),...var8(t)\n",
    "\n",
    "row 3=> .....\n",
    "\n",
    "**After series_to_supervised (each row has data of n previous hours and the current hour)**:\n",
    "\n",
    "\n",
    "row 1=> var1(t-n), var2(t-n),...var8(t-n), var1(t-n+1), var2(t-n+1),...var8(t-n+1), .....var1(t), var3(t),...var8(t)\n",
    "\n",
    "row 2=> var1(t-n-1), var2(t-n-1),...var8(t-n-1), var1(t-1), var3(t-1),...var8(t-1)\n",
    "\n",
    "row 3 => ...\n",
    "\n",
    "\n"
   ]
  },
  {
   "cell_type": "code",
   "execution_count": 5,
   "metadata": {},
   "outputs": [],
   "source": [
    "# convert series to supervised learning\n",
    "def series_to_supervised(data, n_in=1, n_out=1, dropnan=True): \n",
    "    \"\"\"\n",
    "        data: data matrix\n",
    "        n_in: number of input lag timesteps (hours)\n",
    "        n_out: number of output prediction timesteps (hours)\n",
    " \n",
    "    \"\"\"\n",
    "        \n",
    "    n_vars = 1 if type(data) is list else data.shape[1]\n",
    "    df = DataFrame(data)  #transforms data (pure matrix of values) into data structure adding index of rows and columns\n",
    "    cols, names = list(), list()  #inicialize empty lists \n",
    "    # input sequence (t-n, ... t-1)\n",
    "    for i in range(n_in, 0, -1):\n",
    "        cols.append(df.shift(i))\n",
    "        names += [('var%d(t-%d)' % (j+1, i)) for j in range(n_vars)]\n",
    "    # forecast sequence (t, t+1, ... t+n)\n",
    "    for i in range(0, n_out):\n",
    "        cols.append(df.shift(-i))\n",
    "        if i == 0:\n",
    "            names += [('var%d(t)' % (j+1)) for j in range(n_vars)]\n",
    "        else:\n",
    "            names += [('var%d(t+%d)' % (j+1, i)) for j in range(n_vars)]\n",
    "    # put it all together\n",
    "    agg = concat(cols, axis=1)\n",
    "    agg.columns = names\n",
    "    # drop rows with NaN values\n",
    "    if dropnan:\n",
    "        agg.dropna(inplace=True)\n",
    "    return agg\n",
    " "
   ]
  },
  {
   "cell_type": "code",
   "execution_count": 6,
   "metadata": {},
   "outputs": [
    {
     "name": "stdout",
     "output_type": "stream",
     "text": [
      "Before drop set\n",
      "   var1(t-3)  var2(t-3)  var3(t-3)  var4(t-3)  var5(t-3)  var6(t-3)  \\\n",
      "3   0.129779   0.352941   0.245902   0.527273   0.666667   0.002290   \n",
      "4   0.148893   0.367647   0.245902   0.527273   0.666667   0.003811   \n",
      "5   0.159960   0.426471   0.229508   0.545454   0.666667   0.005332   \n",
      "\n",
      "   var7(t-3)  var8(t-3)  var1(t-2)  var2(t-2)  ...  var7(t-1)  var8(t-1)  \\\n",
      "3        0.0        0.0   0.148893   0.367647  ...   0.000000        0.0   \n",
      "4        0.0        0.0   0.159960   0.426471  ...   0.037037        0.0   \n",
      "5        0.0        0.0   0.182093   0.485294  ...   0.074074        0.0   \n",
      "\n",
      "    var1(t)   var2(t)   var3(t)   var4(t)   var5(t)   var6(t)   var7(t)  \\\n",
      "3  0.182093  0.485294  0.229508  0.563637  0.666667  0.008391  0.037037   \n",
      "4  0.138833  0.485294  0.229508  0.563637  0.666667  0.009912  0.074074   \n",
      "5  0.109658  0.485294  0.213115  0.563637  0.666667  0.011433  0.111111   \n",
      "\n",
      "   var8(t)  \n",
      "3      0.0  \n",
      "4      0.0  \n",
      "5      0.0  \n",
      "\n",
      "[3 rows x 32 columns]\n",
      "\n",
      "After drop set\n",
      "   var1(t-3)  var2(t-3)  var3(t-3)  var4(t-3)  var5(t-3)  var6(t-3)  \\\n",
      "3   0.129779   0.352941   0.245902   0.527273   0.666667   0.002290   \n",
      "4   0.148893   0.367647   0.245902   0.527273   0.666667   0.003811   \n",
      "5   0.159960   0.426471   0.229508   0.545454   0.666667   0.005332   \n",
      "\n",
      "   var7(t-3)  var8(t-3)  var1(t-2)  var2(t-2)  ...  var8(t-2)  var1(t-1)  \\\n",
      "3        0.0        0.0   0.148893   0.367647  ...        0.0   0.159960   \n",
      "4        0.0        0.0   0.159960   0.426471  ...        0.0   0.182093   \n",
      "5        0.0        0.0   0.182093   0.485294  ...        0.0   0.138833   \n",
      "\n",
      "   var2(t-1)  var3(t-1)  var4(t-1)  var5(t-1)  var6(t-1)  var7(t-1)  \\\n",
      "3   0.426471   0.229508   0.545454   0.666667   0.005332   0.000000   \n",
      "4   0.485294   0.229508   0.563637   0.666667   0.008391   0.037037   \n",
      "5   0.485294   0.229508   0.563637   0.666667   0.009912   0.074074   \n",
      "\n",
      "   var8(t-1)   var1(t)  \n",
      "3        0.0  0.182093  \n",
      "4        0.0  0.138833  \n",
      "5        0.0  0.109658  \n",
      "\n",
      "[3 rows x 25 columns]\n"
     ]
    }
   ],
   "source": [
    "# encode the categorical feature cbwd: Combined wind direction (4 categorical values) into integers (0,1,2,3)\n",
    "encoder = LabelEncoder()\n",
    "values[:,4] = encoder.fit_transform(values[:,4]) # transform the 5th column into integers 0,1,2,3\n",
    "\n",
    "# ensure all data is float\n",
    "values = values.astype('float32')\n",
    "\n",
    "# normalize features\n",
    "scaler = MinMaxScaler(feature_range=(0, 1))\n",
    "scaled = scaler.fit_transform(values)  #apply scaler to the values \n",
    "\n",
    "# specify the number of lag hours. You can change this hyper-parameter\n",
    "n_hours = 3\n",
    "\n",
    "# call series_to_supervised to frame data as supervised learning\n",
    "reframed = series_to_supervised(scaled, n_in=n_hours)\n",
    "\n",
    "print(\"Before drop set\")\n",
    "print(reframed.head(3))\n",
    "\n",
    "# we want to predict only the feature pm2.5 =var1(t)\n",
    "# Take out the columns of var2(t), var3(t),...var8(t). The indexes below are correct if n_hours = 3\n",
    "reframed.drop(reframed.columns[[31, 30, 29, 28, 27, 26, 25]], axis=1, inplace=True)\n",
    "\n",
    "# Observe the difference before and after the drop step \n",
    "print(\"\\nAfter drop set\")\n",
    "print(reframed.head(3))\n"
   ]
  },
  {
   "cell_type": "markdown",
   "metadata": {},
   "source": [
    "## Split Data\n",
    "\n",
    "First, data is split into train and test subsets. To speed up the model fiting, the training data is only the \n",
    "1st year, the test data are the remaining 4 years. You may consider exploring the oposite. \n",
    "\n",
    "Then the train and test sets are split into input and output variables. \n",
    "\n",
    "Finally, the inputs (X) are reshaped into 3D format expected by LSTMs, namely [samples, timesteps, features].\n",
    "\n",
    "**Total data**: 43800 samples (5 years x 365 days x 24 hours), 8 features.\n",
    "\n",
    "**Train data**: 3D tensor(samples, timesteps, features).\n",
    "8760 samples:  Data from 1 year (365 days), 24 times per day (1h period).\n",
    "\n",
    "**Test data**: 3D tensor (samples, timesteps, features). The rest of 35037 samples. "
   ]
  },
  {
   "cell_type": "code",
   "execution_count": 8,
   "metadata": {},
   "outputs": [
    {
     "name": "stdout",
     "output_type": "stream",
     "text": [
      "(26280, 25)\n",
      "(17517, 25)\n",
      "(26280, 3, 8) (26280,) (17517, 3, 8) (17517,)\n"
     ]
    }
   ],
   "source": [
    "# split into train and test sets\n",
    "\n",
    "# reframed is a structure that has not only values but also heads and row indixes. Extract only the values \n",
    "values = reframed.values\n",
    "n_train_hours = 365 * 24 * n_hours  #8760 (1 year, 24 times per day, i.e. period 1h)\n",
    "\n",
    "#Extract training subset from values \n",
    "train = values[:n_train_hours, :]\n",
    "print(train.shape)\n",
    "\n",
    "#Extract test subset from values \n",
    "test = values[n_train_hours:, :]\n",
    "print(test.shape)\n",
    "\n",
    "# split into input and outputs\n",
    "\n",
    "n_features = 8  #number of features\n",
    "n_obs = n_hours * n_features  # 3*8 =24\n",
    "\n",
    "train_X  = train[:, :-1]    # train_X.shape = (8760, 24)\n",
    "train_y = train[:, -1]      # train_y.shape = (8760,)\n",
    "\n",
    "test_X  = test[:, :-1]      # test_X.shape = (35037, 24)\n",
    "test_y = test[:, -1]        # test_y.shape = (35037,)\n",
    "\n",
    "# reshape input to be 3D [samples, lag_hours, features]\n",
    "train_X = train_X.reshape((train_X.shape[0], n_hours, n_features)) # train_X.shape=(8760,3,8)\n",
    "test_X = test_X.reshape((test_X.shape[0], n_hours, n_features))  # test_X.shape=(35037,3,8)\n",
    "\n",
    "print(train_X.shape, train_y.shape, test_X.shape, test_y.shape)"
   ]
  },
  {
   "cell_type": "markdown",
   "metadata": {},
   "source": [
    "## Define and Fit Model\n",
    "\n",
    "In this section, we define and fit an LSTM on the multivariate input data.\n",
    "We define the LSTM with 50 neurons in the first hidden layer and 1 neuron in the output layer for predicting pollution.\n",
    "We use the Mean Absolute Error (MAE) loss function and the Adam version of stochastic gradient descent.\n",
    "The model will be fit for 50 training epochs with a batch size of 72. \n",
    "At the end of the run both the training and test loss are plotted."
   ]
  },
  {
   "cell_type": "code",
   "execution_count": 9,
   "metadata": {},
   "outputs": [
    {
     "name": "stdout",
     "output_type": "stream",
     "text": [
      "Epoch 1/50\n",
      "365/365 - 2s - loss: 0.0324 - val_loss: 0.0212 - 2s/epoch - 7ms/step\n",
      "Epoch 2/50\n",
      "365/365 - 1s - loss: 0.0194 - val_loss: 0.0199 - 906ms/epoch - 2ms/step\n",
      "Epoch 3/50\n",
      "365/365 - 1s - loss: 0.0185 - val_loss: 0.0183 - 885ms/epoch - 2ms/step\n",
      "Epoch 4/50\n",
      "365/365 - 1s - loss: 0.0174 - val_loss: 0.0169 - 905ms/epoch - 2ms/step\n",
      "Epoch 5/50\n",
      "365/365 - 1s - loss: 0.0161 - val_loss: 0.0156 - 894ms/epoch - 2ms/step\n",
      "Epoch 6/50\n",
      "365/365 - 1s - loss: 0.0148 - val_loss: 0.0141 - 916ms/epoch - 3ms/step\n",
      "Epoch 7/50\n",
      "365/365 - 1s - loss: 0.0142 - val_loss: 0.0137 - 963ms/epoch - 3ms/step\n",
      "Epoch 8/50\n",
      "365/365 - 1s - loss: 0.0137 - val_loss: 0.0139 - 875ms/epoch - 2ms/step\n",
      "Epoch 9/50\n",
      "365/365 - 1s - loss: 0.0138 - val_loss: 0.0137 - 988ms/epoch - 3ms/step\n",
      "Epoch 10/50\n",
      "365/365 - 1s - loss: 0.0137 - val_loss: 0.0137 - 896ms/epoch - 2ms/step\n",
      "Epoch 11/50\n",
      "365/365 - 1s - loss: 0.0138 - val_loss: 0.0139 - 899ms/epoch - 2ms/step\n",
      "Epoch 12/50\n",
      "365/365 - 1s - loss: 0.0137 - val_loss: 0.0138 - 1s/epoch - 3ms/step\n",
      "Epoch 13/50\n",
      "365/365 - 1s - loss: 0.0138 - val_loss: 0.0139 - 928ms/epoch - 3ms/step\n",
      "Epoch 14/50\n",
      "365/365 - 1s - loss: 0.0137 - val_loss: 0.0138 - 903ms/epoch - 2ms/step\n",
      "Epoch 15/50\n",
      "365/365 - 1s - loss: 0.0137 - val_loss: 0.0136 - 946ms/epoch - 3ms/step\n",
      "Epoch 16/50\n",
      "365/365 - 1s - loss: 0.0136 - val_loss: 0.0137 - 1s/epoch - 3ms/step\n",
      "Epoch 17/50\n",
      "365/365 - 1s - loss: 0.0136 - val_loss: 0.0135 - 933ms/epoch - 3ms/step\n",
      "Epoch 18/50\n",
      "365/365 - 1s - loss: 0.0136 - val_loss: 0.0135 - 978ms/epoch - 3ms/step\n",
      "Epoch 19/50\n",
      "365/365 - 1s - loss: 0.0136 - val_loss: 0.0135 - 902ms/epoch - 2ms/step\n",
      "Epoch 20/50\n",
      "365/365 - 1s - loss: 0.0135 - val_loss: 0.0134 - 926ms/epoch - 3ms/step\n",
      "Epoch 21/50\n",
      "365/365 - 1s - loss: 0.0135 - val_loss: 0.0138 - 983ms/epoch - 3ms/step\n",
      "Epoch 22/50\n",
      "365/365 - 1s - loss: 0.0135 - val_loss: 0.0137 - 928ms/epoch - 3ms/step\n",
      "Epoch 23/50\n",
      "365/365 - 1s - loss: 0.0135 - val_loss: 0.0146 - 946ms/epoch - 3ms/step\n",
      "Epoch 24/50\n",
      "365/365 - 1s - loss: 0.0135 - val_loss: 0.0145 - 965ms/epoch - 3ms/step\n",
      "Epoch 25/50\n",
      "365/365 - 1s - loss: 0.0135 - val_loss: 0.0143 - 928ms/epoch - 3ms/step\n",
      "Epoch 26/50\n",
      "365/365 - 1s - loss: 0.0134 - val_loss: 0.0138 - 908ms/epoch - 2ms/step\n",
      "Epoch 27/50\n",
      "365/365 - 1s - loss: 0.0134 - val_loss: 0.0138 - 931ms/epoch - 3ms/step\n",
      "Epoch 28/50\n",
      "365/365 - 1s - loss: 0.0134 - val_loss: 0.0142 - 961ms/epoch - 3ms/step\n",
      "Epoch 29/50\n",
      "365/365 - 1s - loss: 0.0134 - val_loss: 0.0141 - 978ms/epoch - 3ms/step\n",
      "Epoch 30/50\n",
      "365/365 - 1s - loss: 0.0133 - val_loss: 0.0137 - 925ms/epoch - 3ms/step\n",
      "Epoch 31/50\n",
      "365/365 - 1s - loss: 0.0133 - val_loss: 0.0140 - 914ms/epoch - 3ms/step\n",
      "Epoch 32/50\n",
      "365/365 - 1s - loss: 0.0133 - val_loss: 0.0138 - 922ms/epoch - 3ms/step\n",
      "Epoch 33/50\n",
      "365/365 - 1s - loss: 0.0134 - val_loss: 0.0134 - 1s/epoch - 3ms/step\n",
      "Epoch 34/50\n",
      "365/365 - 1s - loss: 0.0132 - val_loss: 0.0133 - 1s/epoch - 3ms/step\n",
      "Epoch 35/50\n",
      "365/365 - 1s - loss: 0.0132 - val_loss: 0.0134 - 1s/epoch - 3ms/step\n",
      "Epoch 36/50\n",
      "365/365 - 1s - loss: 0.0132 - val_loss: 0.0134 - 972ms/epoch - 3ms/step\n",
      "Epoch 37/50\n",
      "365/365 - 1s - loss: 0.0132 - val_loss: 0.0133 - 920ms/epoch - 3ms/step\n",
      "Epoch 38/50\n",
      "365/365 - 1s - loss: 0.0132 - val_loss: 0.0133 - 907ms/epoch - 2ms/step\n",
      "Epoch 39/50\n",
      "365/365 - 1s - loss: 0.0132 - val_loss: 0.0134 - 939ms/epoch - 3ms/step\n",
      "Epoch 40/50\n",
      "365/365 - 1s - loss: 0.0132 - val_loss: 0.0133 - 916ms/epoch - 3ms/step\n",
      "Epoch 41/50\n",
      "365/365 - 1s - loss: 0.0132 - val_loss: 0.0133 - 943ms/epoch - 3ms/step\n",
      "Epoch 42/50\n",
      "365/365 - 1s - loss: 0.0132 - val_loss: 0.0133 - 976ms/epoch - 3ms/step\n",
      "Epoch 43/50\n",
      "365/365 - 1s - loss: 0.0132 - val_loss: 0.0133 - 979ms/epoch - 3ms/step\n",
      "Epoch 44/50\n",
      "365/365 - 1s - loss: 0.0131 - val_loss: 0.0133 - 921ms/epoch - 3ms/step\n",
      "Epoch 45/50\n",
      "365/365 - 1s - loss: 0.0131 - val_loss: 0.0133 - 941ms/epoch - 3ms/step\n",
      "Epoch 46/50\n",
      "365/365 - 1s - loss: 0.0131 - val_loss: 0.0134 - 901ms/epoch - 2ms/step\n",
      "Epoch 47/50\n",
      "365/365 - 1s - loss: 0.0131 - val_loss: 0.0135 - 901ms/epoch - 2ms/step\n",
      "Epoch 48/50\n",
      "365/365 - 1s - loss: 0.0131 - val_loss: 0.0137 - 1s/epoch - 3ms/step\n",
      "Epoch 49/50\n",
      "365/365 - 1s - loss: 0.0131 - val_loss: 0.0137 - 1s/epoch - 3ms/step\n",
      "Epoch 50/50\n",
      "365/365 - 1s - loss: 0.0131 - val_loss: 0.0135 - 900ms/epoch - 2ms/step\n"
     ]
    },
    {
     "data": {
      "image/png": "[encoded data removed]",
      "text/plain": [
       "<Figure size 432x288 with 1 Axes>"
      ]
     },
     "metadata": {
      "needs_background": "light"
     },
     "output_type": "display_data"
    }
   ],
   "source": [
    "# Sequential model is appropriate to design LSTM RNN\n",
    "model = Sequential()\n",
    "# train_X : 3D tensor (samples, lag_hours, feature)\n",
    "# neurons =50\n",
    "# single input_shape = (lag_hours, feature)\n",
    "model.add( LSTM(50, input_shape=(train_X.shape[1], train_X.shape[2])) )\n",
    "model.add(Dense(1))  # 1 neuron in the output layer\n",
    "model.compile(loss='mae', optimizer='adam')\n",
    "\n",
    "# fit network\n",
    "#verbose=0 will show nothing (silent)\n",
    "#verbose=1 will show an animated progress bar\n",
    "#verbose=2 will show the training progress for each epoch (shows loss and val_loss)\n",
    "\n",
    "history = model.fit(train_X, train_y, epochs=50, batch_size=72, validation_data=(test_X, test_y), verbose=2, shuffle=False)\n",
    "\n",
    "#  print history\n",
    "pyplot.plot(history.history['loss'])\n",
    "pyplot.plot(history.history['val_loss'])\n",
    "pyplot.title('Loss function')\n",
    "pyplot.legend(['train', 'test'])\n",
    "pyplot.xlabel('iterations')\n",
    "pyplot.show()\n",
    " "
   ]
  },
  {
   "cell_type": "markdown",
   "metadata": {},
   "source": [
    "## Evaluate Model\n",
    "After the model is fit, we can forecast for the test dataset.\n",
    "Compute the error as the Root Mean Squared Error (RMSE). \n",
    "\n",
    "Compare the predictions and the real data as shown in Fig. 2. \n",
    "\n",
    "<img src=\"images/f2.png\" style=\"width:350px;height:250px;\">\n",
    "<caption><center> **Fig. 1** : ** Test data prediction (the first 2000 samples)** </center></caption>"
   ]
  },
  {
   "cell_type": "code",
   "execution_count": 12,
   "metadata": {},
   "outputs": [
    {
     "name": "stdout",
     "output_type": "stream",
     "text": [
      "Test RMSE: 0.027\n"
     ]
    },
    {
     "data": {
      "text/plain": [
       "<matplotlib.legend.Legend at 0x7ffa84078100>"
      ]
     },
     "execution_count": 12,
     "metadata": {},
     "output_type": "execute_result"
    },
    {
     "data": {
      "image/png": "[encoded data removed]",
      "text/plain": [
       "<Figure size 432x288 with 1 Axes>"
      ]
     },
     "metadata": {
      "needs_background": "light"
     },
     "output_type": "display_data"
    }
   ],
   "source": [
    "yhat = model.predict(test_X) \n",
    "\n",
    "# calculate RMSE\n",
    "rmse = np.sqrt(mean_squared_error(test_y, yhat))\n",
    "print('Test RMSE: %.3f' % rmse)     \n",
    "\n",
    "#Plot test_y and yhat on the same plot\n",
    "#use pyplot from matplotlib\n",
    "\n",
    "pyplot.title('Air Pollution Forecasting')\n",
    "pyplot.xlabel('samples')\n",
    "pyplot.plot(test_y[:2000], label='real data')\n",
    "pyplot.plot(yhat[:2000], label='predictions', color='r')\n",
    "pyplot.legend(loc='upper left')\n"
   ]
  },
  {
   "cell_type": "code",
   "execution_count": 13,
   "metadata": {},
   "outputs": [
    {
     "name": "stdout",
     "output_type": "stream",
     "text": [
      "Test RMSE: 0.027\n"
     ]
    },
    {
     "data": {
      "text/plain": [
       "<matplotlib.legend.Legend at 0x7ffa767dbc70>"
      ]
     },
     "execution_count": 13,
     "metadata": {},
     "output_type": "execute_result"
    },
    {
     "data": {
      "image/png": "[encoded data removed]",
      "text/plain": [
       "<Figure size 432x288 with 1 Axes>"
      ]
     },
     "metadata": {
      "needs_background": "light"
     },
     "output_type": "display_data"
    }
   ],
   "source": [
    "yhat = model.predict(test_X) \n",
    "\n",
    "# calculate RMSE\n",
    "rmse = np.sqrt(mean_squared_error(test_y, yhat))\n",
    "print('Test RMSE: %.3f' % rmse)     \n",
    "\n",
    "#Plot test_y and yhat on the same plot\n",
    "#use pyplot from matplotlib\n",
    "\n",
    "pyplot.title('Air Pollution Forecasting')\n",
    "pyplot.xlabel('samples')\n",
    "pyplot.plot(test_y[:100], label='real data')\n",
    "pyplot.plot(yhat[:100], label='predictions', color='r')\n",
    "pyplot.legend(loc='upper left')\n"
   ]
  },
  {
   "cell_type": "code",
   "execution_count": null,
   "metadata": {},
   "outputs": [],
   "source": []
  }
 ],
 "metadata": {
  "kernelspec": {
   "display_name": "Python 3",
   "language": "python",
   "name": "python3"
  },
  "language_info": {
   "codemirror_mode": {
    "name": "ipython",
    "version": 3
   },
   "file_extension": ".py",
   "mimetype": "text/x-python",
   "name": "python",
   "nbconvert_exporter": "python",
   "pygments_lexer": "ipython3",
   "version": "3.8.8"
  }
 },
 "nbformat": 4,
 "nbformat_minor": 2
}
