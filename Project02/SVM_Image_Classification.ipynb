{
 "cells": [
  {
   "cell_type": "code",
   "execution_count": null,
   "id": "bc727480",
   "metadata": {},
   "outputs": [],
   "source": [
    "import os\n",
    "from shutil import copy\n",
    "import matplotlib.pyplot as plt\n",
    "import numpy as np\n",
    "import glob\n",
    "import cv2\n",
    "from sklearn.linear_model import LogisticRegression\n",
    "from sklearn.preprocessing import StandardScaler\n",
    "from sklearn.model_selection import train_test_split\n",
    "from sklearn.model_selection import KFold, cross_val_score, GridSearchCV\n",
    "from sklearn.metrics import confusion_matrix,precision_recall_curve,auc,roc_auc_score,roc_curve,recall_score,classification_report \n",
    "from sklearn.metrics import precision_recall_fscore_support\n",
    "from sklearn import svm"
   ]
  },
  {
   "cell_type": "code",
   "execution_count": null,
   "id": "fb7e6b5a",
   "metadata": {
    "scrolled": true
   },
   "outputs": [],
   "source": [
    "# Pre-processing\n",
    "labels = [name for name in os.listdir(\"./archive/seg_train/seg_train\") if os.path.isdir(\"./archive/seg_train/seg_train/\"+name)]\n",
    "print(labels)\n",
    "\n",
    "SIZE = (150,150)\n",
    "\n",
    "X_train = []\n",
    "y_train = []\n",
    "X_test = []\n",
    "y_test = []\n",
    "\n",
    "# Train data\n",
    "for i in labels:\n",
    "    path = os.path.join('archive/seg_train/seg_train/', i)\n",
    "    for image in os.listdir(path):\n",
    "        img = cv2.imread(os.path.join(path,image))\n",
    "        # Transform RGB image into GRAY image\n",
    "        img = cv2.cvtColor(img, cv2.COLOR_RGB2GRAY)\n",
    "        # Resize all images to SIZE images to have the same features\n",
    "        img = cv2.resize(img, SIZE).flatten()\n",
    "        X_train.append(img)\n",
    "        y_train.append(labels.index(i))\n",
    "            \n",
    "X_train = np.array(X_train)\n",
    "y_train = np.array(y_train)\n",
    "\n",
    "# Test data\n",
    "for i in labels:\n",
    "    path = os.path.join('archive/seg_test/seg_test/', i)\n",
    "    for image in os.listdir(path):\n",
    "        img = cv2.imread(os.path.join(path,image))\n",
    "        # Transform RGB image into GRAY image\n",
    "        img = cv2.cvtColor(img, cv2.COLOR_RGB2GRAY)\n",
    "        # Resize all images to SIZE images to have the same features\n",
    "        img = cv2.resize(img, SIZE).flatten()\n",
    "        X_test.append(img)\n",
    "        y_test.append(labels.index(i))\n",
    "            \n",
    "X_test = np.array(X_test)\n",
    "y_test = np.array(y_test)\n",
    "\n",
    "print(\"Data set mean: \\n{}\\n\".format(np.mean(X_train)))\n",
    "print(\"X_train shape: \\n{}\\n\".format(X_train.shape))\n",
    "print(\"y_train shape: \\n{}\\n\".format(y_train.shape))\n",
    "print(\"X_test shape: \\n{}\\n\".format(X_test.shape))\n",
    "print(\"y_test shape: \\n{}\\n\".format(y_test.shape))"
   ]
  },
  {
   "cell_type": "code",
   "execution_count": null,
   "id": "0bd5598a",
   "metadata": {},
   "outputs": [],
   "source": [
    "def dataset3Params(X, y, Xval, yval,vals,kernel):\n",
    "    \"\"\"\n",
    "    dataset3Params returns the optimal C and gamma(1/sigma) based on a cross-validation set.\n",
    "    \"\"\"\n",
    "    acc = 0\n",
    "    best_C=0\n",
    "    best_gamma=0\n",
    "    for i in vals:\n",
    "        C= i\n",
    "        for j in vals:\n",
    "            gamma = 1/j\n",
    "            classifier = svm.SVC(kernel=kernel,C=C,gamma=gamma)\n",
    "            classifier.fit(X,y)\n",
    "            prediction = classifier.predict(Xval)\n",
    "            score = classifier.score(Xval,yval)\n",
    "            if score>acc:\n",
    "                acc =score\n",
    "                best_C =C\n",
    "                best_gamma=gamma\n",
    "    return best_C, best_gamma"
   ]
  },
  {
   "cell_type": "code",
   "execution_count": null,
   "id": "c06a4697",
   "metadata": {},
   "outputs": [],
   "source": [
    "# RBF SVM\n",
    "vals = [0.01, 0.03, 0.1, 0.3, 1, 3, 10, 30]\n",
    "best_C, best_gamma = dataset3Params(X_train, y_train.ravel(), X_test, y_test.ravel(),vals,'rbf')\n",
    "\n",
    "#What are the best C and sigma ?\n",
    "print(\"Best C: {}\\nBest gamma: {}\\nBest sigma: {}\".format(best_C, best_gamma, 1/best_gamma))\n",
    "\n",
    "classifier = svm.SVC(kernel=\"rbf\",C=best_C,gamma=best_gamma)\n",
    "classifier.fit(X_train, y_train)\n",
    "y_pred = classifier.predict(X_test)\n",
    "\n",
    "print('Accuracy: ', classifier.score(X_test, y_test))\n",
    "values = precision_recall_fscore_support(y_test, y_pred, average='macro')\n",
    "print(\"Precision: {}\\nRecall: {}\\nFscore: {}\".format(values[0], values[1], values[2]))\n"
   ]
  }
 ],
 "metadata": {
  "kernelspec": {
   "display_name": "Python 3",
   "language": "python",
   "name": "python3"
  },
  "language_info": {
   "codemirror_mode": {
    "name": "ipython",
    "version": 3
   },
   "file_extension": ".py",
   "mimetype": "text/x-python",
   "name": "python",
   "nbconvert_exporter": "python",
   "pygments_lexer": "ipython3",
   "version": "3.8.8"
  }
 },
 "nbformat": 4,
 "nbformat_minor": 5
}
