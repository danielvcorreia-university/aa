{
 "cells": [
  {
   "cell_type": "code",
   "execution_count": 1,
   "id": "54d26a6d",
   "metadata": {},
   "outputs": [],
   "source": [
    "from shutil import copy\n",
    "import numpy as np\n",
    "import matplotlib.pyplot as plt\n",
    "import os\n",
    "import cv2\n",
    "import glob\n",
    "from sklearn.linear_model import LogisticRegression\n",
    "from sklearn.preprocessing import StandardScaler\n",
    "from sklearn.model_selection import train_test_split\n",
    "from sklearn.model_selection import KFold, cross_val_score, GridSearchCV\n",
    "from sklearn.metrics import confusion_matrix,precision_recall_curve,auc,roc_auc_score,roc_curve,recall_score,classification_report \n",
    "from sklearn.metrics import precision_recall_fscore_support\n",
    "from sklearn import svm\n",
    "from tensorflow.keras import applications\n",
    "from tensorflow import keras\n",
    "from tensorflow.keras import layers\n",
    "from tensorflow.keras import Sequential\n",
    "from tensorflow.keras.models import Sequential, Model, load_model\n",
    "from tensorflow.keras import optimizers\n",
    "from tensorflow.keras.layers import Dropout, Flatten, Dense\n",
    "from sklearn.utils import shuffle\n",
    "from sklearn.metrics import accuracy_score\n",
    "from tensorflow.keras.callbacks import ModelCheckpoint, LearningRateScheduler, EarlyStopping, ReduceLROnPlateau, TensorBoard\n"
   ]
  },
  {
   "cell_type": "code",
   "execution_count": 2,
   "id": "4915d8a7",
   "metadata": {},
   "outputs": [],
   "source": [
    "# Pre-processing\n",
    "SIZE = 224\n",
    "\n",
    "X_train = []\n",
    "y_train = []\n",
    "\n",
    "X_test = []\n",
    "y_test = []\n",
    "\n",
    "train_names = []\n",
    "test_names = []\n",
    "\n",
    "# Train data\n",
    "for person in os.listdir('./signatures_dataset_script_split/train'):\n",
    "    for signature in glob.glob('./signatures_dataset_script_split/train/' + person + '/*.*'):\n",
    "        \n",
    "        train_names.append(signature)\n",
    "        img = cv2.imread(signature)\n",
    "        # Transform BGR image into GRAY image\n",
    "        img = cv2.cvtColor(img, cv2.COLOR_BGR2RGB)\n",
    "        # Resize all images to (SIZE, SIZE) images to have the same features\n",
    "        img = cv2.resize(img, (SIZE, SIZE))\n",
    "        X_train.append(img)\n",
    "        \n",
    "        if person[-1] == 'd':\n",
    "            y_train.append(np.array(1))\n",
    "        else:\n",
    "            y_train.append(np.array(0))\n",
    "            \n",
    "# Normalize image pixels to be between 0 and 1\n",
    "X_train = np.array(X_train)/255.0\n",
    "y_train = np.array(y_train)\n",
    "\n",
    "# Test data\n",
    "\n",
    "for person in os.listdir('./signatures_dataset_script_split/test'):\n",
    "    for signature in glob.glob('./signatures_dataset_script_split/test/' + person + '/*.*'):\n",
    "        \n",
    "        test_names.append(signature)\n",
    "        img = cv2.imread(signature)\n",
    "        # Transform BGR image into GRAY image\n",
    "        img = cv2.cvtColor(img, cv2.COLOR_BGR2RGB)\n",
    "        # Resize all images to (SIZE, SIZE) images to have the same features\n",
    "        img = cv2.resize(img, (SIZE, SIZE))\n",
    "        X_test.append(img)\n",
    "        \n",
    "        if person[-1] == 'd':\n",
    "            y_test.append(np.array(1))\n",
    "        else:\n",
    "            y_test.append(np.array(0))\n",
    "            \n",
    "# Normalize image pixels to be between 0 and 1\n",
    "X_test = np.array(X_test)/255.0\n",
    "y_test = np.array(y_test)\n"
   ]
  },
  {
   "cell_type": "code",
   "execution_count": 3,
   "id": "996d9a54",
   "metadata": {},
   "outputs": [
    {
     "name": "stdout",
     "output_type": "stream",
     "text": [
      "Data set mean: \n",
      "0.9536430889630143\n",
      "\n",
      "X_train shape: \n",
      "(240, 224, 224, 3)\n",
      "\n",
      "y_train shape: \n",
      "(240, 2)\n",
      "\n",
      "X_test shape: \n",
      "(60, 224, 224, 3)\n",
      "\n",
      "y_test shape: \n",
      "(60,)\n",
      "\n"
     ]
    }
   ],
   "source": [
    "from tensorflow.keras.utils import to_categorical\n",
    "\n",
    "# Normalize data\n",
    "X_train_nn = X_train.copy()\n",
    "X_test_nn = X_test.copy()\n",
    "y_train_nn = y_train.copy()\n",
    "y_test_nn = y_test.copy()\n",
    "\n",
    "y_train_nn = to_categorical(y_train_nn)\n",
    "\n",
    "print(\"Data set mean: \\n{}\\n\".format(np.mean(X_train_nn)))\n",
    "print(\"X_train shape: \\n{}\\n\".format(X_train_nn.shape))\n",
    "print(\"y_train shape: \\n{}\\n\".format(y_train_nn.shape))\n",
    "print(\"X_test shape: \\n{}\\n\".format(X_test_nn.shape))\n",
    "print(\"y_test shape: \\n{}\\n\".format(y_test_nn.shape))\n"
   ]
  },
  {
   "cell_type": "code",
   "execution_count": 5,
   "id": "aed89f05",
   "metadata": {
    "scrolled": true
   },
   "outputs": [
    {
     "name": "stdout",
     "output_type": "stream",
     "text": [
      "Model: \"model\"\n",
      "_________________________________________________________________\n",
      " Layer (type)                Output Shape              Param #   \n",
      "=================================================================\n",
      " inception_v3_input (InputLa  [(None, 224, 224, 3)]    0         \n",
      " yer)                                                            \n",
      "                                                                 \n",
      " inception_v3 (Functional)   (None, 5, 5, 2048)        21802784  \n",
      "                                                                 \n",
      " flatten (Flatten)           (None, 51200)             0         \n",
      "                                                                 \n",
      " dense (Dense)               (None, 256)               13107456  \n",
      "                                                                 \n",
      " dense_1 (Dense)             (None, 2)                 514       \n",
      "                                                                 \n",
      "=================================================================\n",
      "Total params: 34,910,754\n",
      "Trainable params: 34,876,322\n",
      "Non-trainable params: 34,432\n",
      "_________________________________________________________________\n",
      "Epoch 1/20\n",
      "84/84 [==============================] - 41s 418ms/step - loss: 0.8561 - accuracy: 0.4821 - val_loss: 0.8353 - val_accuracy: 0.5139\n",
      "Epoch 2/20\n",
      "84/84 [==============================] - 37s 437ms/step - loss: 0.6865 - accuracy: 0.6071 - val_loss: 0.6897 - val_accuracy: 0.5972\n",
      "Epoch 3/20\n",
      "84/84 [==============================] - 37s 440ms/step - loss: 0.5376 - accuracy: 0.7381 - val_loss: 0.6854 - val_accuracy: 0.5833\n",
      "Epoch 4/20\n",
      "84/84 [==============================] - 38s 456ms/step - loss: 0.5088 - accuracy: 0.7381 - val_loss: 0.8040 - val_accuracy: 0.4722\n",
      "Epoch 5/20\n",
      "84/84 [==============================] - 37s 439ms/step - loss: 0.4291 - accuracy: 0.8274 - val_loss: 0.7653 - val_accuracy: 0.5139\n",
      "Epoch 6/20\n",
      "84/84 [==============================] - 37s 437ms/step - loss: 0.4082 - accuracy: 0.8393 - val_loss: 0.7939 - val_accuracy: 0.5694\n",
      "Epoch 00006: early stopping\n"
     ]
    },
    {
     "data": {
      "image/png": "[encoded data removed]",
      "text/plain": [
       "<Figure size 432x288 with 1 Axes>"
      ]
     },
     "metadata": {
      "needs_background": "light"
     },
     "output_type": "display_data"
    },
    {
     "data": {
      "text/plain": [
       "<Figure size 432x288 with 0 Axes>"
      ]
     },
     "metadata": {},
     "output_type": "display_data"
    },
    {
     "data": {
      "image/png": "[encoded data removed]",
      "text/plain": [
       "<Figure size 432x288 with 1 Axes>"
      ]
     },
     "metadata": {
      "needs_background": "light"
     },
     "output_type": "display_data"
    }
   ],
   "source": [
    "base_model = applications.InceptionV3(weights='imagenet', include_top=False, input_shape=(224,224,3))\n",
    "\n",
    "model = Sequential()\n",
    "data_augmentation = keras.Sequential([layers.experimental.preprocessing.RandomRotation(0.1)])\n",
    "model.add(base_model)\n",
    "model.add(Flatten(input_shape=base_model.output_shape[1:]))\n",
    "model.add(Dense(256, activation='relu'))\n",
    "model.add(Dense(2, activation='softmax'))\n",
    "\n",
    "model = Model(inputs=model.input, outputs=model.output)\n",
    "model.compile(loss='categorical_crossentropy', optimizer=optimizers.Adagrad(learning_rate=1e-4),\n",
    "              metrics=['accuracy'])\n",
    "\n",
    "model.summary()\n",
    "\n",
    "\n",
    "earlyStopping = EarlyStopping(monitor='val_loss',\n",
    "                              min_delta=0,\n",
    "                              patience=3,\n",
    "                              verbose=1)\n",
    "\n",
    "early_stop=[earlyStopping]\n",
    "progess = model.fit(X_train_nn,y_train_nn, batch_size=2,epochs=20, callbacks=early_stop,validation_split=.3)\n",
    "acc = progess.history['accuracy']\n",
    "val_acc = progess.history['val_accuracy']\n",
    "loss = progess.history['loss']\n",
    "val_loss = progess.history['val_loss']\n",
    "\n",
    "epochs = range(len(acc))\n",
    "\n",
    "plt.plot(epochs, acc, 'b', label='Training acc')\n",
    "plt.plot(epochs, val_acc, 'r', label='Validation acc')\n",
    "plt.title('Training and validation accuracy')\n",
    "plt.legend()\n",
    "plt.figure()\n",
    "plt.show()\n",
    "\n",
    "plt.plot(epochs, loss, 'b', label='Training loss')\n",
    "plt.plot(epochs, val_loss, 'r', label='Validation loss')\n",
    "plt.title('Training and validation loss')\n",
    "plt.legend()\n",
    "plt.show()\n"
   ]
  },
  {
   "cell_type": "code",
   "execution_count": 6,
   "id": "c562d73c",
   "metadata": {},
   "outputs": [],
   "source": [
    "intermediate_layer_model = Model(inputs=model.input,\n",
    "                                 outputs=model.layers[-2].output)\n",
    "X_train_nn = intermediate_layer_model.predict(X_train_nn)\n",
    "X_test_nn = intermediate_layer_model.predict(X_test_nn)"
   ]
  },
  {
   "cell_type": "code",
   "execution_count": 7,
   "id": "226679c0",
   "metadata": {},
   "outputs": [
    {
     "name": "stdout",
     "output_type": "stream",
     "text": [
      "120/120 [==============================] - 11s 92ms/step - loss: 0.6518 - accuracy: 0.6542\n"
     ]
    }
   ],
   "source": [
    "score = model.evaluate(X_train,y_train_nn,batch_size=BS)\n",
    "y_pred_nn = np.argmax(model.predict(X_test,batch_size=BS), axis=1)"
   ]
  },
  {
   "cell_type": "code",
   "execution_count": 8,
   "id": "4bde33eb",
   "metadata": {},
   "outputs": [
    {
     "name": "stdout",
     "output_type": "stream",
     "text": [
      "Accuracy:  0.5333333333333333\n",
      "Precision: 0.5333333333333333\n",
      "Recall: 0.5333333333333333\n",
      "Fscore: 0.5333333333333333\n"
     ]
    }
   ],
   "source": [
    "lr = LogisticRegression()\n",
    "lr.fit(X_train_nn, y_train)\n",
    "y_pred = lr.predict(X_test_nn)\n",
    "\n",
    "print('Accuracy: ', lr.score(X_test_nn, y_test_nn))\n",
    "values = precision_recall_fscore_support(y_test_nn, y_pred, average='macro')\n",
    "print(\"Precision: {}\\nRecall: {}\\nFscore: {}\".format(values[0], values[1], values[2]))\n"
   ]
  },
  {
   "cell_type": "code",
   "execution_count": 9,
   "id": "b7bbb236",
   "metadata": {},
   "outputs": [
    {
     "name": "stdout",
     "output_type": "stream",
     "text": [
      "Accuracy:  0.6166666666666667\n",
      "Confusion matrix (undersample test dataset)\n",
      "[[15 15]\n",
      " [ 8 22]]\n",
      "Recall:  0.7333333333333333\n"
     ]
    }
   ],
   "source": [
    "# Linear SVM\n",
    "classifier = svm.SVC(kernel=\"rbf\")\n",
    "classifier.fit(X_train_nn, y_train)\n",
    "y_pred = classifier.predict(X_test_nn)\n",
    "\n",
    "print('Accuracy: ', classifier.score(X_test_nn, y_test_nn))\n",
    "# Compute confusion matrix\n",
    "cnf_matrix = confusion_matrix(y_test_nn, y_pred)\n",
    "\n",
    "print('Confusion matrix (undersample test dataset)')\n",
    "print(cnf_matrix)\n",
    "\n",
    "#Compute Recall metric (TP/(TP+FN))\n",
    "confusion_matrix\n",
    "print(\"Recall: \", cnf_matrix[1][1] / (cnf_matrix[1][1] + cnf_matrix[1][0])) \n"
   ]
  },
  {
   "cell_type": "code",
   "execution_count": 10,
   "id": "484d952a",
   "metadata": {},
   "outputs": [
    {
     "name": "stdout",
     "output_type": "stream",
     "text": [
      "Accuracy:  0.6166666666666667\n",
      "Confusion matrix (undersample test dataset)\n",
      "[[15 15]\n",
      " [ 8 22]]\n",
      "Recall:  0.7333333333333333\n"
     ]
    }
   ],
   "source": [
    "# RBF SVM\n",
    "classifier = svm.SVC(kernel=\"rbf\")\n",
    "classifier.fit(X_train_nn, y_train)\n",
    "y_pred = classifier.predict(X_test_nn)\n",
    "\n",
    "print('Accuracy: ', classifier.score(X_test_nn, y_test_nn))\n",
    "# Compute confusion matrix\n",
    "cnf_matrix = confusion_matrix(y_test_nn, y_pred)\n",
    "\n",
    "print('Confusion matrix (undersample test dataset)')\n",
    "print(cnf_matrix)\n",
    "\n",
    "#Compute Recall metric (TP/(TP+FN))\n",
    "confusion_matrix\n",
    "print(\"Recall: \", cnf_matrix[1][1] / (cnf_matrix[1][1] + cnf_matrix[1][0])) \n"
   ]
  },
  {
   "cell_type": "code",
   "execution_count": 11,
   "id": "8dd2473e",
   "metadata": {},
   "outputs": [
    {
     "name": "stdout",
     "output_type": "stream",
     "text": [
      "Accuracy:  0.6833333333333333\n",
      "Confusion matrix (undersample test dataset)\n",
      "[[18 12]\n",
      " [ 7 23]]\n",
      "Recall:  0.7666666666666667\n"
     ]
    }
   ],
   "source": [
    "# sigmoid SVM\n",
    "classifier = svm.SVC(kernel=\"sigmoid\")\n",
    "classifier.fit(X_train_nn, y_train)\n",
    "y_pred = classifier.predict(X_test_nn)\n",
    "\n",
    "print('Accuracy: ', classifier.score(X_test_nn, y_test_nn))\n",
    "# Compute confusion matrix\n",
    "cnf_matrix = confusion_matrix(y_test_nn, y_pred)\n",
    "\n",
    "print('Confusion matrix (undersample test dataset)')\n",
    "print(cnf_matrix)\n",
    "\n",
    "#Compute Recall metric (TP/(TP+FN))\n",
    "confusion_matrix\n",
    "print(\"Recall: \", cnf_matrix[1][1] / (cnf_matrix[1][1] + cnf_matrix[1][0])) \n"
   ]
  },
  {
   "cell_type": "code",
   "execution_count": null,
   "id": "22815a19",
   "metadata": {},
   "outputs": [],
   "source": []
  }
 ],
 "metadata": {
  "kernelspec": {
   "display_name": "Python 3",
   "language": "python",
   "name": "python3"
  },
  "language_info": {
   "codemirror_mode": {
    "name": "ipython",
    "version": 3
   },
   "file_extension": ".py",
   "mimetype": "text/x-python",
   "name": "python",
   "nbconvert_exporter": "python",
   "pygments_lexer": "ipython3",
   "version": "3.8.8"
  }
 },
 "nbformat": 4,
 "nbformat_minor": 5
}
