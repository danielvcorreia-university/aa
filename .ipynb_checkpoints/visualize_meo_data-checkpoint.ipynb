{
 "cells": [
  {
   "cell_type": "code",
   "execution_count": 1,
   "id": "a9b8ada3",
   "metadata": {},
   "outputs": [],
   "source": [
    "import numpy as np\n",
    "import matplotlib.pyplot as plt\n",
    "import pandas as pd"
   ]
  },
  {
   "cell_type": "code",
   "execution_count": null,
   "id": "a1a11471",
   "metadata": {},
   "outputs": [],
   "source": [
    "# Read csv file into memory\n",
    "data = pd.read_csv(\"/media/dvc/YARNIE/DOCUMENTOS/UNIVERSIDADE/machine-learning-urban-mobility-scenarios/data/R4G MEO - Amostras/exportDBN1_R4G_20191001_20191007.csv\", header=None)"
   ]
  }
 ],
 "metadata": {
  "kernelspec": {
   "display_name": "Python 3",
   "language": "python",
   "name": "python3"
  },
  "language_info": {
   "codemirror_mode": {
    "name": "ipython",
    "version": 3
   },
   "file_extension": ".py",
   "mimetype": "text/x-python",
   "name": "python",
   "nbconvert_exporter": "python",
   "pygments_lexer": "ipython3",
   "version": "3.8.8"
  }
 },
 "nbformat": 4,
 "nbformat_minor": 5
}
